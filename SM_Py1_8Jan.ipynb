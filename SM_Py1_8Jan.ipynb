{
  "nbformat": 4,
  "nbformat_minor": 0,
  "metadata": {
    "colab": {
      "provenance": [],
      "toc_visible": true,
      "authorship_tag": "ABX9TyOK2ydzT3upbL1wbOZl/i8b",
      "include_colab_link": true
    },
    "kernelspec": {
      "name": "python3",
      "display_name": "Python 3"
    },
    "language_info": {
      "name": "python"
    }
  },
  "cells": [
    {
      "cell_type": "markdown",
      "metadata": {
        "id": "view-in-github",
        "colab_type": "text"
      },
      "source": [
        "<a href=\"https://colab.research.google.com/github/Sajanw909/PythonNeoma/blob/main/SM_Py1_8Jan.ipynb\" target=\"_parent\"><img src=\"https://colab.research.google.com/assets/colab-badge.svg\" alt=\"Open In Colab\"/></a>"
      ]
    },
    {
      "cell_type": "markdown",
      "source": [
        "# Intro to Python\n"
      ],
      "metadata": {
        "id": "52EKyTxK1c_s"
      }
    },
    {
      "cell_type": "code",
      "source": [
        "print(\"Hello Everyone!\")"
      ],
      "metadata": {
        "id": "ugVfc-2qMsJA",
        "colab": {
          "base_uri": "https://localhost:8080/"
        },
        "outputId": "7f30d0e3-8c1e-4a81-9ce2-5876178a1e5f"
      },
      "execution_count": 1,
      "outputs": [
        {
          "output_type": "stream",
          "name": "stdout",
          "text": [
            "Hello Everyone!\n"
          ]
        }
      ]
    },
    {
      "cell_type": "code",
      "execution_count": null,
      "metadata": {
        "id": "7eCjHZ2-MhLi"
      },
      "outputs": [],
      "source": [
        "print(\"Welcome to Collab\")"
      ]
    },
    {
      "cell_type": "code",
      "source": [
        "#Creating a list\n",
        "my_list=['Apple','Banana','Orange']\n",
        "\n",
        "my_list"
      ],
      "metadata": {
        "colab": {
          "base_uri": "https://localhost:8080/"
        },
        "id": "OFeJkL_b1B4A",
        "outputId": "5cabebe4-0b03-4dbf-8d4b-87a44bf624df"
      },
      "execution_count": 3,
      "outputs": [
        {
          "output_type": "execute_result",
          "data": {
            "text/plain": [
              "['Apple', 'Banana', 'Orange']"
            ]
          },
          "metadata": {},
          "execution_count": 3
        }
      ]
    },
    {
      "cell_type": "code",
      "source": [
        "# loops\n",
        "for i in range(5):\n",
        "    print(i)"
      ],
      "metadata": {
        "colab": {
          "base_uri": "https://localhost:8080/"
        },
        "id": "c4W4aiokMWwH",
        "outputId": "9dcfde8c-49ac-4813-cb29-7c96b07be5fc"
      },
      "execution_count": 4,
      "outputs": [
        {
          "output_type": "stream",
          "name": "stdout",
          "text": [
            "0\n",
            "1\n",
            "2\n",
            "3\n",
            "4\n"
          ]
        }
      ]
    },
    {
      "cell_type": "code",
      "source": [
        "x= 10;\n",
        "y= 10;\n",
        "print(\"Sum of\",x,\"and\",y,\"=\",x+y)\n"
      ],
      "metadata": {
        "colab": {
          "base_uri": "https://localhost:8080/"
        },
        "id": "UDGzJiiINF9E",
        "outputId": "73a010b9-80e6-474a-9954-479cafc88a46"
      },
      "execution_count": 5,
      "outputs": [
        {
          "output_type": "stream",
          "name": "stdout",
          "text": [
            "Sum of 10 and 10 = 20\n"
          ]
        }
      ]
    },
    {
      "cell_type": "code",
      "source": [
        "for i in range(5):\n",
        "  print (i);\n"
      ],
      "metadata": {
        "colab": {
          "base_uri": "https://localhost:8080/"
        },
        "id": "HdqxvJZgNh_p",
        "outputId": "3e6020da-abb8-4eb5-ef28-859041c07442"
      },
      "execution_count": 8,
      "outputs": [
        {
          "output_type": "stream",
          "name": "stdout",
          "text": [
            "0\n",
            "1\n",
            "2\n",
            "3\n",
            "4\n"
          ]
        }
      ]
    }
  ]
}