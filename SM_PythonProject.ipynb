{
  "nbformat": 4,
  "nbformat_minor": 0,
  "metadata": {
    "colab": {
      "provenance": [],
      "toc_visible": true
    },
    "kernelspec": {
      "name": "python3",
      "display_name": "Python 3"
    },
    "language_info": {
      "name": "python"
    }
  },
  "cells": [
    {
      "cell_type": "code",
      "execution_count": 2,
      "metadata": {
        "id": "ruaNcPqVVDdY"
      },
      "outputs": [],
      "source": [
        "import pandas as pd\n",
        "import numpy as np\n",
        "import matplotlib.pyplot as plt\n",
        "import seaborn as sns\n",
        "from sqlalchemy import create_engine\n",
        "\n",
        "\n"
      ]
    },
    {
      "cell_type": "markdown",
      "source": [
        "#Dataset manipulation"
      ],
      "metadata": {
        "id": "Xh_eAvPO_PZv"
      }
    },
    {
      "cell_type": "code",
      "source": [
        "#Load Dataset\n",
        "def getdataset(filepath):\n",
        "  \"\"\"Loading the dataset, inspections and cleaning\"\"\"\n",
        "  try:\n",
        "    df = pd.read_excel(filepath)\n",
        "    return df\n",
        "  except FileNotFoundError:\n",
        "    print(f\"Error: File not found at path: {filepath}\")\n",
        "    return None\n",
        "\n",
        "filepath=\"Online Retail.xlsx\"\n",
        "df = getdataset(filepath)\n",
        "#This is a reusable function where filepath differs from the location of datasets\n",
        "\n",
        "#Inspect\n",
        "if df is not None:\n",
        "  print(\"First few rows of the dataset: \\n\",df.head())\n",
        "  print(\"\\n The datatypes in this dataset: \\n\",df.info())\n",
        "\n",
        "#Cleaning\n",
        "#Noticed numerous invalid values in Description, UnitPrice = 0 , -ve values\n",
        "\n",
        "  print(\"Initial Dataframe Shape:\", df.shape)\n",
        "  print(\"Missing Description Count:\", df['Description'].isnull().sum())\n",
        "  print(\"Zero Unit Price Count:\", (df['UnitPrice'] == 0).sum())\n",
        "\n",
        "#C1. Remove Rows with Missing Descriptions or where Description is whitespace\n",
        "  df.dropna(subset=['Description'], inplace=True)\n",
        "  df = df[df['Description'].str.strip() != \"\"]  # Remove whitespace-only descriptions\n",
        "\n",
        "#C2. Remove Rows with Zero Unit Prices\n",
        "  df = df[df['UnitPrice'] != 0]\n",
        "\n",
        "#C3. Removing rows with invalid values for Quantity\n",
        "  df = df[pd.to_numeric(df['Quantity'], errors='coerce').notna()]\n",
        "  df['Quantity'] = pd.to_numeric(df['Quantity'])\n",
        "\n",
        "  df['IsReturn'] = df['Quantity'] < 0\n",
        "  df['Quantity'] = df['Quantity'].abs()\n",
        "\n",
        "#C4. Remove rows where 'StockCode' is not valid.\n",
        "#Convert 'StockCode' to string type to handle mixed data types\n",
        "  df['StockCode'] = df['StockCode'].astype(str)\n",
        "  df = df[df['StockCode'].str.strip() != \"\"]\n",
        "\n",
        "# Convert InvoiceDate to datetime (handle different formats)\n",
        "  df['InvoiceDate'] = pd.to_datetime(df['InvoiceDate'], errors='coerce')\n",
        "  df.dropna(subset=['InvoiceDate'], inplace=True)\n",
        "\n",
        "# Inspect (Post-Cleaning)\n",
        "  print(\"\\nCleaned Dataframe Shape:\", df.shape)\n",
        "  print(\"Missing Description Count (after cleaning):\", df['Description'].isnull().sum())\n",
        "  print(\"Zero Unit Price Count (after cleaning):\", (df['UnitPrice'] == 0).sum())\n",
        "  print(\"Unique Stock Codes:\", df['StockCode'].nunique())\n",
        "\n",
        "# Reset Index (Good Practice After Filtering)\n",
        "  df.reset_index(drop=True, inplace=True)\n",
        "\n",
        "else:\n",
        "  print(\"Dataset not loaded.\")\n",
        "\n",
        "#More cleaning is necessary as some product description is having jargon value such as\n",
        "#[amazon, missing,can't find, breakages..etc]"
      ],
      "metadata": {
        "id": "ZUc0gcJM066B"
      },
      "execution_count": null,
      "outputs": []
    },
    {
      "cell_type": "markdown",
      "source": [
        "#List Dictionaries"
      ],
      "metadata": {
        "id": "R_MVB5Z_EdxV"
      }
    },
    {
      "cell_type": "code",
      "source": [
        "#Making lists and dictionaries\n",
        "product_list = df['Description'].unique().tolist()\n",
        "product_dict = {product_list[i]:i for i in range(len(product_list))}\n",
        "for key, value in product_dict.items():\n",
        "    if value > 10:\n",
        "        print(f\"{key}: High Sales ({value})\")\n",
        "    else:\n",
        "        print(f\"{key}: Low Sales ({value})\")\n"
      ],
      "metadata": {
        "id": "MPqnZJP0E0aL"
      },
      "execution_count": null,
      "outputs": []
    },
    {
      "cell_type": "markdown",
      "source": [
        "#Data Manipulation #Modifications"
      ],
      "metadata": {
        "id": "06tu2ucCFLpH"
      }
    },
    {
      "cell_type": "code",
      "source": [
        "df['TotalPrice'] = df['Quantity'] * df['UnitPrice']\n",
        "\n",
        "grouped_data = df.groupby('Description')['TotalPrice'].sum().reset_index()\n",
        "grouped_data.sort_values(by='TotalPrice', ascending=False, inplace=True)\n",
        "df.head()\n",
        "\n",
        "# Filter: Sales in the UK\n",
        "uk_sales = df[df['Country'] == 'United Kingdom']\n",
        "\n",
        "# Sort: By UnitPrice in descending order\n",
        "sorted_by_price = df.sort_values('UnitPrice', ascending=False)\n",
        "\n",
        "# Group: Sales by Country\n",
        "sales_by_country = df.groupby('Country')['Quantity'].sum()"
      ],
      "metadata": {
        "id": "_gXj-of8Fe0J"
      },
      "execution_count": 7,
      "outputs": []
    },
    {
      "cell_type": "markdown",
      "source": [
        "#Mathematical Operations"
      ],
      "metadata": {
        "id": "rXItxY2GGuEB"
      }
    },
    {
      "cell_type": "code",
      "source": [
        "# Calculate total sales value\n",
        "df['Sales'] = df['Quantity'] * df['UnitPrice']\n",
        "total_sales = df['Sales'].sum()\n",
        "print(f\"\\nTotal Sales Value: {total_sales:.2f}\")\n",
        "\n",
        "#F string does the type-casting automatically to string\n",
        "\n",
        "# Average unit price\n",
        "average_price = df['UnitPrice'].mean()\n",
        "print(f\"Average Unit Price: {average_price:.2f}\")"
      ],
      "metadata": {
        "colab": {
          "base_uri": "https://localhost:8080/"
        },
        "id": "5Aolu9dcGnR4",
        "outputId": "a3f4e3e2-5f1a-470d-88c2-c4a2a1ee0be7"
      },
      "execution_count": 8,
      "outputs": [
        {
          "output_type": "stream",
          "name": "stdout",
          "text": [
            "\n",
            "Total Sales Value: 11541372.91\n",
            "Average Unit Price: 4.63\n"
          ]
        }
      ]
    },
    {
      "cell_type": "markdown",
      "source": [
        "#Data visualization\n",
        "#Charts and Plots"
      ],
      "metadata": {
        "id": "RxPqOsvRHKH8"
      }
    },
    {
      "cell_type": "code",
      "source": [
        "# Trends: Sales over time (line chart)\n",
        "sales_over_time = df.groupby(df['InvoiceDate'].dt.date)['Sales'].sum()\n",
        "plt.figure(figsize=(10, 6))\n",
        "plt.plot(sales_over_time.index, sales_over_time.values)\n",
        "plt.title('Sales Trend Over Time')\n",
        "plt.xlabel('Date')\n",
        "plt.ylabel('Total Sales')\n",
        "plt.grid(True)\n",
        "plt.show()\n"
      ],
      "metadata": {
        "id": "MU50iUQkHMAx"
      },
      "execution_count": null,
      "outputs": []
    },
    {
      "cell_type": "code",
      "source": [
        "#Box Plots: Visualize the distribution of 'UnitPrice' and 'Quantity'\n",
        "plt.figure(figsize=(10, 6))\n",
        "sns.boxplot(x=df['UnitPrice'])\n",
        "plt.title('Distribution of Unit Price')\n",
        "plt.show()\n",
        "\n",
        "plt.figure(figsize=(10, 6))\n",
        "sns.boxplot(x=df['Quantity'])\n",
        "plt.title('Distribution of Quantity')\n",
        "plt.show()"
      ],
      "metadata": {
        "id": "awkgvFCFKBHd"
      },
      "execution_count": null,
      "outputs": []
    },
    {
      "cell_type": "code",
      "source": [
        "#Scatter Plots: Explore the relationship between 'Quantity' and 'UnitPrice'\n",
        "\n",
        "plt.figure(figsize=(10, 6))\n",
        "plt.scatter(df['Quantity'], df['UnitPrice'])\n",
        "plt.xlabel('Quantity')\n",
        "plt.ylabel('UnitPrice')\n",
        "plt.title('Relationship between Quantity and Unit Price')\n",
        "plt.grid(True)\n",
        "plt.show()"
      ],
      "metadata": {
        "id": "uVpRZbv3Kg6Q"
      },
      "execution_count": null,
      "outputs": []
    },
    {
      "cell_type": "code",
      "source": [
        "#Bar Plot: Visualize the top 10 selling products with TotalPrice\n",
        "plt.figure(figsize=(10, 5))\n",
        "sns.barplot(x=grouped_data['Description'][:10], y=grouped_data['TotalPrice'][:10])\n",
        "plt.xticks(rotation=90)\n",
        "plt.title(\"Top 10 Selling Products\")\n",
        "plt.show()\n"
      ],
      "metadata": {
        "id": "jSsk--MwSm5w"
      },
      "execution_count": null,
      "outputs": []
    },
    {
      "cell_type": "markdown",
      "source": [
        "#SQLAlchemy"
      ],
      "metadata": {
        "id": "wgwIRQ__MPoq"
      }
    },
    {
      "cell_type": "code",
      "source": [
        "# Create SQLite database (you can change to another database)\n",
        "engine = create_engine('sqlite:///sales_data.db', echo=False)\n",
        "# In-memory: 'sqlite:///:memory:'\n",
        "\n",
        "# Store the processed DataFrame in the database\n",
        "df.to_sql('sales', engine, if_exists='replace', index=False)\n",
        "\n",
        "# Query: Average sales by product description\n",
        "query = \"\"\"\n",
        "SELECT Description, AVG(Sales) AS AverageSales\n",
        "FROM sales\n",
        "GROUP BY Description\n",
        "ORDER BY AverageSales DESC\n",
        "LIMIT 10;\n",
        "\"\"\"\n",
        "with engine.connect() as conn:\n",
        "    result = pd.read_sql_query(query, conn)\n",
        "\n",
        "print(\"\\nTop 10 Product Descriptions by Average Sales:\\n\", result)"
      ],
      "metadata": {
        "id": "bVP0PWYAMOgk"
      },
      "execution_count": null,
      "outputs": []
    },
    {
      "cell_type": "markdown",
      "source": [
        "#Interpretation"
      ],
      "metadata": {
        "id": "CAZ7dbqXSWc9"
      }
    },
    {
      "cell_type": "markdown",
      "source": [
        "This codespace analyzes an online retail dataset in which the user performs data cleaning, transformations and visual analysis.\n",
        "Initial steps include importing the dataset, scrutinizing the missing or invalid values present as empty product descriptions, zero unit prices, incorrect quantity and stock codes values.\n",
        "Data cleansing ensures the accuracy and reliability of business data which is essential to make the data ready for analytics resulting in data-driven business decisions.\n",
        "\n",
        "In the next phase, user subsets the dataset into a few lists and dictionaries to analyze unique items and their sales volumes.\n",
        "A key observation is the segmentation of products based on sales frequency (high vs. low sales). This analysis provides valuable insights into product demand, allowing businesses to identify top-selling items and those with lower customer interest"
      ],
      "metadata": {
        "id": "pYFkILnVVjX6"
      }
    }
  ]
}